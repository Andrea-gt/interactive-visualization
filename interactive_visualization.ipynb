{
 "cells": [
  {
   "cell_type": "markdown",
   "metadata": {},
   "source": [
    "# **Lorem ipsum dolor sit amet**"
   ]
  },
  {
   "cell_type": "markdown",
   "metadata": {},
   "source": [
    " Lorem ipsum dolor sit amet, consectetur adipiscing elit. Vivamus tempus porttitor turpis non consequat. Donec at lobortis est, non consectetur sapien. Proin non libero finibus, mattis est id, imperdiet metus. Maecenas convallis erat sit amet varius elementum. Ut tristique accumsan urna, sed congue ex sagittis ut. Nam posuere ante nibh, at consectetur arcu viverra non. Aliquam bibendum tincidunt tristique. Aenean hendrerit hendrerit massa in tincidunt. Proin sodales dolor maximus, tempus risus vitae, ornare quam. Duis at massa rhoncus, semper nisl at, sagittis felis. Morbi quis bibendum nisl, vel interdum magna.\n",
    "\n",
    "Aliquam metus dolor, posuere sed arcu id, accumsan hendrerit quam. Pellentesque non sodales libero. Phasellus eleifend viverra aliquet. Etiam sit amet dapibus turpis. Nulla quis sollicitudin ipsum. Nam volutpat dolor in est tempor, et gravida dui sollicitudin. Duis viverra, massa nec dictum mollis, nisl libero hendrerit ex, sit amet ultricies elit ex ac quam. Sed ornare dolor vel hendrerit aliquet. Suspendisse faucibus orci id urna feugiat, nec vestibulum dui rhoncus. Quisque laoreet malesuada massa, et convallis urna. Pellentesque diam dui, congue eu aliquet eget, lacinia nec enim. Morbi pulvinar, felis vel ullamcorper porttitor, ex arcu consequat erat, efficitur consectetur turpis ex sit amet felis. Integer a est libero. Suspendisse potenti. Phasellus rhoncus fringilla euismod. Ut efficitur tortor hendrerit, tincidunt metus sit amet, consectetur enim. "
   ]
  },
  {
   "cell_type": "markdown",
   "metadata": {},
   "source": [
    "**Authors:**\n",
    "- [Adrian Flores](https://github.com/adrianRFlores)\n",
    "- [Andrea Ramirez](https://github.com/Andrea-gt)"
   ]
  },
  {
   "cell_type": "markdown",
   "metadata": {},
   "source": [
    "-----"
   ]
  },
  {
   "cell_type": "markdown",
   "metadata": {},
   "source": [
    "## **Import Libraries** ⬇️"
   ]
  },
  {
   "cell_type": "code",
   "execution_count": 1,
   "metadata": {},
   "outputs": [],
   "source": [
    "# Data manipulation and visualization\n",
    "import matplotlib.pyplot as plt\n",
    "import numpy as np\n",
    "import pandas as pd\n",
    "import seaborn as sns\n",
    "import matplotlib.ticker as mticker\n",
    "import ipywidgets as widgets\n",
    "import plotly.graph_objs as go\n",
    "\n",
    "# Standard libraries\n",
    "import warnings\n",
    "warnings.filterwarnings('ignore')\n",
    "\n",
    "# ===== ===== Reproducibility Seed ===== =====\n",
    "# Set a fixed seed for the random number generator for reproducibility\n",
    "random_state = 42\n",
    "\n",
    "# Set matplotlib inline\n",
    "%matplotlib inline\n",
    "\n",
    "# Set default figure size\n",
    "plt.rcParams['figure.figsize'] = (16, 8)\n",
    "\n",
    "# Define custom color palette\n",
    "palette = ['#648FFF', '#775EF0', '#DD2680', '#FE6100', '#FFB001']\n",
    "\n",
    "# Set the style of seaborn\n",
    "sns.set_theme(style=\"whitegrid\")"
   ]
  },
  {
   "cell_type": "code",
   "execution_count": 2,
   "metadata": {},
   "outputs": [
    {
     "data": {
      "application/vnd.jupyter.widget-view+json": {
       "model_id": "d0d6717df1a74bc7b64b21c19cdf483b",
       "version_major": 2,
       "version_minor": 0
      },
      "text/plain": [
       "VBox(children=(FloatSlider(value=4.0, description='$x$'), FloatText(value=16.0, description='$x^2$', disabled=…"
      ]
     },
     "metadata": {},
     "output_type": "display_data"
    }
   ],
   "source": [
    "\n",
    "\n",
    "# Create a slider widget to allow users to select a floating point value, labeled 'x'\n",
    "slider = widgets.FloatSlider(description='$x$')\n",
    "\n",
    "# Create a text widget to display the squared value of the slider's input, labeled 'x^2'\n",
    "# This widget is disabled to prevent user input (it's only for displaying output)\n",
    "text = widgets.FloatText(disabled=True, description='$x^2$')\n",
    "\n",
    "# Define a function that computes the square of the slider's value\n",
    "# and updates the text widget with the result\n",
    "def compute(*ignore):\n",
    "    text.value = str(slider.value ** 2)\n",
    "\n",
    "# Link the slider to the compute function; this ensures that any change\n",
    "# in the slider's value triggers a re-calculation of the square\n",
    "slider.observe(compute, 'value')\n",
    "\n",
    "# Set an initial value for the slider (4 in this case), which will also trigger the function to update the text widget\n",
    "slider.value = 4\n",
    "\n",
    "# Display the slider and the text output in a vertical layout (VBox)\n",
    "widgets.VBox([slider, text])"
   ]
  },
  {
   "cell_type": "markdown",
   "metadata": {},
   "source": [
    "## **Data Upload** 📄"
   ]
  },
  {
   "cell_type": "code",
   "execution_count": 3,
   "metadata": {},
   "outputs": [],
   "source": [
    "def read_and_process_excel(file_names):\n",
    "    dfs = []  # Initialize an empty list to store DataFrames\n",
    "\n",
    "    for file_name in file_names:\n",
    "        # Read the Excel file while skipping the first six rows of headers\n",
    "        df = pd.read_excel(file_name, skiprows=6)\n",
    "\n",
    "        # Drop the last three rows from the DataFrame to remove any unwanted data\n",
    "        df = df.iloc[:-3]\n",
    "\n",
    "        # Convert the 'Fecha' column to datetime format\n",
    "        df['Fecha'] = pd.to_datetime(df['Fecha'])\n",
    "\n",
    "        # Set the 'Fecha' column as the index of the DataFrame\n",
    "        df.set_index('Fecha', inplace=True)\n",
    "\n",
    "        # Select only the specified columns and create a new column 'Diesel' by combining 'Diesel alto azufre' and 'Diesel bajo azufre'\n",
    "        df['Diesel'] = df['Diesel alto azufre'].fillna(0) + df['Diesel bajo azufre'].fillna(0)\n",
    "\n",
    "        # Select only the relevant columns: Gasolina regular, Gasolina superior, Gas licuado de petróleo, and the new Diesel column\n",
    "        df = df[['Gasolina regular', 'Gasolina superior', 'Gas licuado de petróleo', 'Diesel']]\n",
    "\n",
    "        # Append the processed DataFrame to the list\n",
    "        dfs.append(df)\n",
    "\n",
    "    return dfs  # Return the list of DataFrames"
   ]
  },
  {
   "cell_type": "code",
   "execution_count": 4,
   "metadata": {},
   "outputs": [],
   "source": [
    "# List of Excel file names to be processed\n",
    "file_names = [\"consumo.xlsx\", \"importacion.xlsx\"]\n",
    "dataset_names = [\"Consumo\", \"Importacion\", \"Precios\"]\n",
    "\n",
    "# Call the function to read and process the Excel files, storing the result in the dataframes variable\n",
    "dataframes = read_and_process_excel(file_names)"
   ]
  },
  {
   "cell_type": "code",
   "execution_count": 5,
   "metadata": {},
   "outputs": [],
   "source": [
    "def read_price_dfs(sheetname, skip):\n",
    "  # Read the Excel file while skipping the first six rows of headers\n",
    "  df = pd.read_excel(\"precios.xlsx\", skiprows=skip, sheet_name=sheetname)\n",
    "  # Drop the last three rows from the DataFrame to remove any unwanted data\n",
    "  df = df.iloc[1:-3]\n",
    "  # Convert the 'Fecha' column to datetime format\n",
    "  df['Fecha'] = pd.to_datetime(df['FECHA'])\n",
    "  # Set the 'Fecha' column as the index of the DataFrame\n",
    "  df.set_index('Fecha', inplace=True)\n",
    "  # Remove last column\n",
    "  df = df.iloc[:, :-1]\n",
    "  # Rename the columns correctly\n",
    "  df.rename(columns={\n",
    "      'FECHA': 'Fecha',\n",
    "      'Tipo de Cambio': 'Tipo de Cambio',\n",
    "      'Superior': 'Gasolina superior',\n",
    "      'Regular': 'Gasolina regular',\n",
    "      'Diesel': 'Diesel',\n",
    "      'Bunker': 'Bunker',\n",
    "      'Glp Cilindro 25Lbs.': 'Gas licuado de petróleo'\n",
    "  }, inplace=True)\n",
    "  # Select only the relevant columns: Gasolina regular, Gasolina superior, Gas licuado de petróleo, and Diesel\n",
    "  df = df[['Gasolina regular', 'Gasolina superior', 'Gas licuado de petróleo', 'Diesel']]\n",
    "  # Drop NaN values from the final DataFrame\n",
    "  df.dropna(inplace=True)\n",
    "  return df"
   ]
  },
  {
   "cell_type": "code",
   "execution_count": 6,
   "metadata": {},
   "outputs": [],
   "source": [
    "list_price_params = [(\"2021\", 6), (\"2022\", 6), (\"2023\", 7), (\"2024\", 7)]"
   ]
  },
  {
   "cell_type": "code",
   "execution_count": 7,
   "metadata": {},
   "outputs": [],
   "source": [
    "# Initialize an empty list to hold DataFrames\n",
    "df_list = []\n",
    "\n",
    "# Loop through each parameter to read and append DataFrames to the list\n",
    "for year, skip in list_price_params:\n",
    "    df = read_price_dfs(year, skip)\n",
    "    df_list.append(df)\n",
    "\n",
    "# Concatenate all DataFrames in the list into a single DataFrame\n",
    "df = pd.concat(df_list)\n",
    "# Optionally, sort the index if necessary\n",
    "df.sort_index(inplace=True)\n",
    "# Display the final DataFrame\n",
    "dataframes.append(df)"
   ]
  },
  {
   "cell_type": "markdown",
   "metadata": {},
   "source": [
    "## **Exploratory Analysis** 🔎"
   ]
  },
  {
   "cell_type": "markdown",
   "metadata": {},
   "source": [
    "### **(1) Descripción General de los Datos**"
   ]
  },
  {
   "cell_type": "code",
   "execution_count": 8,
   "metadata": {},
   "outputs": [
    {
     "name": "stdout",
     "output_type": "stream",
     "text": [
      "The given dataset Consumo has 293 registers.\n",
      "The given dataset Importacion has 281 registers.\n",
      "The given dataset Precios has 1302 registers.\n"
     ]
    }
   ],
   "source": [
    "for i, df in enumerate(dataframes):\n",
    "  # Get the number of rows in the merged DataFrame\n",
    "  rows_num = df.shape[0]\n",
    "  # Print the number of records in the DataFrame\n",
    "  print(f\"The given dataset {dataset_names[i]} has\", rows_num, \"registers.\")"
   ]
  },
  {
   "cell_type": "markdown",
   "metadata": {},
   "source": [
    "**Observaciones 💡 -->**\n",
    "> - El primer conjunto de datos se centra en la recopilación de información histórica sobre el consumo nacional de petróleo y productos petroleros en Guatemala. Este conjunto abarca entradas desde enero de 2000 hasta la fecha actual. La información fue obtenida de la página oficial del [Ministerio de Energía y Minas](https://mem.gob.gt/que-hacemos/hidrocarburos/comercializacion-downstream/estadisticas-de-mercado/#1599459297938-cd7460d6-8212). Cuenta con alrededor de 293 registros y 4 columnas."
   ]
  },
  {
   "cell_type": "markdown",
   "metadata": {},
   "source": [
    "> - El segundo conjunto de datos se centra en la recopilación de información histórica sobre la importación de productos derivados del petróleo en Guatemala. Este conjunto abarca entradas desde enero de 2001 hasta la fecha actual. La información fue obtenida de la página oficial del [Ministerio de Energía y Minas](https://mem.gob.gt/que-hacemos/hidrocarburos/comercializacion-downstream/estadisticas-de-mercado/#1599459009048-ab105b3e-20a3). Cuenta con alrededor de 281 registros y 4 columnas, de manera similar al conjunto anterior."
   ]
  },
  {
   "cell_type": "markdown",
   "metadata": {},
   "source": [
    "> - El tercer conjunto de datos se centra en la recopilación de información histórica sobre los precios de productos derivados del petróleo en Guatemala (GTQ/Galón). Este conjunto abarca entradas desde enero de 2021 hasta la fecha actual. La información fue obtenida de la página oficial del [Ministerio de Energía y Minas](https://mem.gob.gt/que-hacemos/hidrocarburos/comercializacion-downstream/estadisticas-de-mercado/#1599459009048-ab105b3e-20a3). Cuenta con 1302 registros y 4 columnas."
   ]
  },
  {
   "cell_type": "code",
   "execution_count": 9,
   "metadata": {},
   "outputs": [
    {
     "name": "stdout",
     "output_type": "stream",
     "text": [
      "<class 'pandas.core.frame.DataFrame'>\n",
      "DatetimeIndex: 293 entries, 2000-01-01 to 2024-05-01\n",
      "Data columns (total 4 columns):\n",
      " #   Column                   Non-Null Count  Dtype  \n",
      "---  ------                   --------------  -----  \n",
      " 0   Gasolina regular         293 non-null    float64\n",
      " 1   Gasolina superior        293 non-null    float64\n",
      " 2   Gas licuado de petróleo  293 non-null    float64\n",
      " 3   Diesel                   293 non-null    float64\n",
      "dtypes: float64(4)\n",
      "memory usage: 11.4 KB\n",
      "None \n",
      "\n",
      "<class 'pandas.core.frame.DataFrame'>\n",
      "DatetimeIndex: 281 entries, 2001-01-01 to 2024-05-01\n",
      "Data columns (total 4 columns):\n",
      " #   Column                   Non-Null Count  Dtype  \n",
      "---  ------                   --------------  -----  \n",
      " 0   Gasolina regular         281 non-null    float64\n",
      " 1   Gasolina superior        281 non-null    float64\n",
      " 2   Gas licuado de petróleo  281 non-null    float64\n",
      " 3   Diesel                   281 non-null    float64\n",
      "dtypes: float64(4)\n",
      "memory usage: 11.0 KB\n",
      "None \n",
      "\n",
      "<class 'pandas.core.frame.DataFrame'>\n",
      "DatetimeIndex: 1302 entries, 2021-01-01 to 2024-07-28\n",
      "Data columns (total 4 columns):\n",
      " #   Column                   Non-Null Count  Dtype \n",
      "---  ------                   --------------  ----- \n",
      " 0   Gasolina regular         1302 non-null   object\n",
      " 1   Gasolina superior        1302 non-null   object\n",
      " 2   Gas licuado de petróleo  1302 non-null   object\n",
      " 3   Diesel                   1302 non-null   object\n",
      "dtypes: object(4)\n",
      "memory usage: 50.9+ KB\n",
      "None \n",
      "\n"
     ]
    }
   ],
   "source": [
    "for df in dataframes:\n",
    "  # Basic information about the dataset\n",
    "  print(df.info(), \"\\n\")"
   ]
  },
  {
   "cell_type": "markdown",
   "metadata": {},
   "source": [
    "**Observaciones 💡 -->**"
   ]
  },
  {
   "cell_type": "markdown",
   "metadata": {},
   "source": [
    "> - En este análisis observamos que no es necesario realizar alteraciones en los tipos de las variables en ninguno de los conjuntos de datos, ya que todas están definidas de manera adecuada. Es relevante destacar que, aunque no se observan valores nulos, existe la posibilidad de que algunos de ellos estén codificados de manera diferente. Por lo tanto, es importante tener esto en cuenta durante el proceso de limpieza. Sin embargo, a medida que se avance en el análisis exploratorio, se podrá obtener información más detallada al respecto."
   ]
  },
  {
   "cell_type": "markdown",
   "metadata": {},
   "source": [
    "### **(2) Clasificación de las Variables**"
   ]
  },
  {
   "cell_type": "markdown",
   "metadata": {},
   "source": [
    "**Conjunto de Datos de Consumo -->**"
   ]
  },
  {
   "cell_type": "markdown",
   "metadata": {},
   "source": [
    "| Nombre                       | Descripción                                                          | Clasificación  |\n",
    "|------------------------------|----------------------------------------------------------------------|----------------|\n",
    "| Fecha                        | Fecha de registro de los datos de consumo de combustibles.            | Categórica     |\n",
    "| Gasolina regular             | Consumo nacional de gasolina regular en barriles de 42 galones.       | Numérica       |\n",
    "| Gasolina superior            | Consumo nacional de gasolina superior en barriles de 42 galones.      | Numérica       |\n",
    "| Gas licuado de petróleo      | Consumo nacional de gas licuado de petróleo en barriles de 42 galones.| Numérica       |\n",
    "| Diesel                       | Consumo nacional de diesel en barriles de 42 galones.                 | Numérica       |\n"
   ]
  },
  {
   "cell_type": "markdown",
   "metadata": {},
   "source": [
    "**Conjunto de Datos de Importación -->**"
   ]
  },
  {
   "cell_type": "markdown",
   "metadata": {},
   "source": [
    "| Nombre                       | Descripción                                                               | Clasificación  |\n",
    "|------------------------------|---------------------------------------------------------------------------|----------------|\n",
    "| Fecha                        | Fecha de registro de la importación de productos derivados del petróleo.  | Categórica     |\n",
    "| Gasolina regular             | Importación nacional de gasolina regular en barriles de 42 galones.      | Numérica       |\n",
    "| Gasolina superior            | Importación nacional de gasolina superior en barriles de 42 galones.     | Numérica       |\n",
    "| Gas licuado de petróleo      | Imporatación nacional de gas licuado de petróleo en barriles de 42 galones.| Numérica       |\n",
    "| Diesel                       | Importación nacional de diesel en barriles de 42 galones.                | Numérica       |"
   ]
  },
  {
   "cell_type": "markdown",
   "metadata": {},
   "source": [
    "**Conjunto de Datos de Precio -->**\n"
   ]
  },
  {
   "cell_type": "markdown",
   "metadata": {},
   "source": [
    "| Nombre                       | Descripción                                                               | Clasificación  |\n",
    "|------------------------------|---------------------------------------------------------------------------|----------------|\n",
    "| Fecha                        | Fecha de registro del precio en quetzales.  | Categórica     |\n",
    "| Gasolina regular             | Precio de gasolina regular en quetzales por galón.      | Numérica       |\n",
    "| Gasolina superior            | Precio de gasolina superior en quetzales por galón.     | Numérica       |\n",
    "| Gas licuado de petróleo      | Precio del gas licuado de petróleo en quetzales por galón.| Numérica       |\n",
    "| Diesel                       | Precio del diesel en quetzales por galón.                | Numérica       |"
   ]
  },
  {
   "cell_type": "markdown",
   "metadata": {},
   "source": [
    "### **(3) Exploración y Limpieza Inicial de los Datos**"
   ]
  },
  {
   "cell_type": "markdown",
   "metadata": {},
   "source": [
    "#### **🖊 Modificación de Etiquetas de Variables -->**"
   ]
  },
  {
   "cell_type": "markdown",
   "metadata": {},
   "source": [
    "Para facilitar la comprensión y el manejo del conjunto de datos, se procederá a modificar los nombres de las variables. Este cambio permitirá una organización más clara y una interpretación más precisa de la información."
   ]
  },
  {
   "cell_type": "code",
   "execution_count": 10,
   "metadata": {},
   "outputs": [],
   "source": [
    "# Dictionary to rename columns for better readability\n",
    "rename_col = {\n",
    "    'Gasolina regular': 'gasoline_regular',    # Renaming 'Gasolina regular' to 'gasoline_regular'\n",
    "    'Gasolina superior': 'gasoline_superior',  # Renaming 'Gasolina superior' to 'gasoline_superior'\n",
    "    'Gas licuado de petróleo': 'liquefied_gas', # Renaming 'Gas licuado de petróleo' to 'liquefied_gas'\n",
    "    'Diesel': 'diesel'                        # Renaming 'Diesel' to 'diesel'\n",
    "}"
   ]
  },
  {
   "cell_type": "code",
   "execution_count": 11,
   "metadata": {},
   "outputs": [
    {
     "name": "stdout",
     "output_type": "stream",
     "text": [
      "            gasoline_regular  gasoline_superior  liquefied_gas     diesel\n",
      "date                                                                     \n",
      "2000-01-01         202645.20          308156.82  194410.476190  634667.06\n",
      "2000-02-01         205530.96          307766.31  174710.552381  642380.66 \n",
      "\n",
      "            gasoline_regular  gasoline_superior  liquefied_gas     diesel\n",
      "date                                                                     \n",
      "2001-01-01         177776.50          373963.96  194065.738095  566101.99\n",
      "2001-02-01         123115.99          243091.07  170703.380952  489525.80 \n",
      "\n",
      "            gasoline_regular  gasoline_superior  liquefied_gas  diesel\n",
      "date                                                                  \n",
      "2021-01-01             21.11              21.91           99.0   17.61\n",
      "2021-01-02             21.11              21.91           99.0   17.61 \n",
      "\n"
     ]
    }
   ],
   "source": [
    "for i, df in enumerate(dataframes):\n",
    "  # Use a pandas function to rename the current function\n",
    "  df = df.rename(columns = rename_col)\n",
    "  # Change the index name from 'Fecha' to 'date'\n",
    "  df.rename_axis('date', inplace=True)\n",
    "  # Ensure all columns are numeric\n",
    "  df = df.astype('float64')\n",
    "  # Save changes\n",
    "  dataframes[i] = df\n",
    "  print(df.head(2), \"\\n\")"
   ]
  },
  {
   "cell_type": "markdown",
   "metadata": {},
   "source": [
    "### **(4) Análisis Visual Preliminar de los Datos**"
   ]
  },
  {
   "cell_type": "code",
   "execution_count": 12,
   "metadata": {},
   "outputs": [],
   "source": [
    "# Combine the DataFrames for the interactive selection\n",
    "dataframe_mapping = {\n",
    "    \"Consumption\": dataframes[0],\n",
    "    \"Importation\": dataframes[1],\n",
    "    \"Pricing\": dataframes[2]\n",
    "}"
   ]
  },
  {
   "cell_type": "markdown",
   "metadata": {},
   "source": [
    "#### **(1) Análisis Visual de Series Temporales**"
   ]
  },
  {
   "cell_type": "code",
   "execution_count": 13,
   "metadata": {},
   "outputs": [],
   "source": [
    "# Define a mapping of dataset names to y-axis labels\n",
    "y_label_mapping = {\n",
    "    \"Consumption\": \"Consumption (Barrel, 42 gallons)\",\n",
    "    \"Importation\": \"Importation (Barrel, 42 gallons)\",\n",
    "    \"Pricing\": \"Price (GTQ/Gal)\"\n",
    "}\n",
    "\n",
    "# Create a dropdown widget for selecting the DataFrame\n",
    "df_selector = widgets.Dropdown(\n",
    "    options=list(dataframe_mapping.keys()),\n",
    "    description='Dataset:',\n",
    ")\n",
    "\n",
    "# Function to plot the selected DataFrame\n",
    "def plot_dataframe(name):\n",
    "    # Get the DataFrame based on the name\n",
    "    df = dataframe_mapping.get(name, None)  # Default to None if the name is not found\n",
    "    \n",
    "    # Create the line plots\n",
    "    sns.lineplot(data=df, x=df.index, y='gasoline_regular', label='Gasoline Regular', color=palette[0])\n",
    "    sns.lineplot(data=df, x=df.index, y='gasoline_superior', label='Gasoline Superior', color=palette[1])\n",
    "    sns.lineplot(data=df, x=df.index, y='liquefied_gas', label='Liquefied Gas', color=palette[2])\n",
    "    sns.lineplot(data=df, x=df.index, y='diesel', label='Diesel', color=palette[3])\n",
    "\n",
    "    # Add titles and labels with improved formatting\n",
    "    plt.title(f'Trends in Petroleum Product {name} in Guatemala', fontsize=16, fontweight='bold')\n",
    "    plt.xlabel('Date', fontsize=14)\n",
    "    \n",
    "    # Set the y-axis label based on the selected dataset\n",
    "    y_label = y_label_mapping.get(name, 'Price')\n",
    "    plt.ylabel(y_label, fontsize=14)\n",
    "    \n",
    "    plt.xticks(rotation=45)  # Rotate x-axis labels for better readability\n",
    "    plt.yticks(fontsize=12)  # Increase font size for y-ticks\n",
    "    plt.legend(title='Fuel Type', fontsize=12)\n",
    "    \n",
    "    # Set y-axis tick formatting to include thousand separators\n",
    "    ax = plt.gca()  # Get the current axis\n",
    "    ax.yaxis.set_major_formatter(mticker.StrMethodFormatter('{x:,.0f}'))  # Format y-ticks\n",
    "\n",
    "    plt.grid(visible=True, linestyle='--', alpha=0.7)  # Add a grid for better readability\n",
    "    plt.tight_layout()  # Adjust layout to make room for rotated x-axis labels\n",
    "    plt.show()\n"
   ]
  },
  {
   "cell_type": "code",
   "execution_count": 14,
   "metadata": {},
   "outputs": [
    {
     "data": {
      "application/vnd.jupyter.widget-view+json": {
       "model_id": "83042d57e7414e208ff3f0211586de17",
       "version_major": 2,
       "version_minor": 0
      },
      "text/plain": [
       "interactive(children=(Dropdown(description='Dataset:', options=('Consumption', 'Importation', 'Pricing'), valu…"
      ]
     },
     "metadata": {},
     "output_type": "display_data"
    }
   ],
   "source": [
    "# Create an interactive output using the df_selector\n",
    "widgets.interactive(plot_dataframe, name=df_selector)"
   ]
  },
  {
   "cell_type": "markdown",
   "metadata": {},
   "source": [
    "**Instrucciones para Utilizar el Gráfico ⚙️**\n",
    "\n",
    "En este gráfico interactivo, puedes seleccionar diferentes conjuntos de datos relacionados con productos derivados del petróleo en Guatemala, como \"Consumo\", \"Importación\" o \"Precio\". A través del menú desplegable, puedes elegir cuál de estos conjuntos deseas visualizar.\n",
    "\n",
    "El gráfico muestra las tendencias a lo largo del tiempo para varios tipos de combustibles, incluyendo:\n",
    "\n",
    "- Gasolina Regular\n",
    "- Gasolina Superior\n",
    "- Gas Licuado\n",
    "- Diésel\n",
    "\n",
    "Las líneas del gráfico corresponden a cada uno de estos combustibles, y la leyenda te ayuda a identificarlos por color.\n",
    "\n",
    "El eje x representa las fechas, mientras que el eje y se adapta automáticamente al tipo de dato seleccionado:\n",
    "\n",
    "- Si seleccionas Consumo o Importación, el eje y mostrará los valores en barriles (42 galones cada uno).\n",
    "- Si seleccionas Precio, el eje y mostrará los precios en quetzales por galón (GTQ/Gal)."
   ]
  },
  {
   "cell_type": "markdown",
   "metadata": {},
   "source": [
    "#### **(2) Análisis de la Distribución Mensual y Anual de Series Temporales**"
   ]
  },
  {
   "cell_type": "code",
   "execution_count": 15,
   "metadata": {},
   "outputs": [],
   "source": [
    "# Function to plot maximums interactively\n",
    "def top_months_interactive(name, detail_level):\n",
    "    # Create a new DataFrame that aggregates data by the chosen detail level\n",
    "    if detail_level == 'Monthly':\n",
    "        # Aggregate by month and get max for each month\n",
    "        monthly_max = dataframe_mapping[name].groupby(dataframe_mapping[name].index.month).max()\n",
    "    elif detail_level == 'Yearly':\n",
    "        # Aggregate by year and get max for each year\n",
    "        yearly_max = dataframe_mapping[name].resample('Y').max()\n",
    "        # If you want to display only the years as labels\n",
    "        monthly_max = yearly_max\n",
    "\n",
    "    # Plotting\n",
    "    monthly_max.plot(kind='bar', color=palette, edgecolor='black', width=0.8)\n",
    "\n",
    "    # Set proper names for the legend\n",
    "    fuel_labels = ['Gasoline Regular', 'Gasoline Superior', 'Liquefied Gas', 'Diesel']\n",
    "\n",
    "    # Formatting the plot\n",
    "    plt.title(f'Maximum Fuel {name} ({detail_level})', fontsize=16, fontweight='bold')\n",
    "    if detail_level == 'Monthly':\n",
    "        plt.xlabel('Month', fontsize=14)\n",
    "        plt.xticks(ticks=range(1, 13), labels=['Jan', 'Feb', 'Mar', 'Apr', 'May', 'Jun', 'Jul', 'Aug', 'Sep', 'Oct', 'Nov', 'Dec'], rotation=45)\n",
    "    else:\n",
    "        plt.xlabel('Year', fontsize=14)\n",
    "        plt.xticks(ticks=range(len(monthly_max.index)), labels=monthly_max.index.year, rotation=45)\n",
    "\n",
    "    plt.ylabel(f'Maximum {name}', fontsize=14)\n",
    "    plt.legend(fuel_labels, title='Fuel Type', fontsize=12)\n",
    "\n",
    "    # Set y-axis tick formatting to include thousand separators\n",
    "    ax = plt.gca()  # Get the current axis\n",
    "    ax.yaxis.set_major_formatter(mticker.StrMethodFormatter('{x:,.0f}'))  # Format y-ticks\n",
    "\n",
    "    plt.grid(axis='y', linestyle='--', alpha=0.7)\n",
    "    plt.tight_layout()\n",
    "    plt.show()"
   ]
  },
  {
   "cell_type": "code",
   "execution_count": 16,
   "metadata": {},
   "outputs": [
    {
     "data": {
      "application/vnd.jupyter.widget-view+json": {
       "model_id": "7beb83db83e742ad9f7dbac57a257057",
       "version_major": 2,
       "version_minor": 0
      },
      "text/plain": [
       "interactive(children=(Dropdown(description='Dataset:', options=('Consumption', 'Importation', 'Pricing'), valu…"
      ]
     },
     "metadata": {},
     "output_type": "display_data"
    }
   ],
   "source": [
    "# Use the interactive function with the dropdowns\n",
    "df_selector = widgets.Dropdown(options=dataframe_mapping.keys(), description='Dataset:')\n",
    "detail_selector = widgets.Dropdown(options=['Monthly', 'Yearly'], description='Detail Level:')\n",
    "\n",
    "# Create interactive widgets\n",
    "widgets.interactive(top_months_interactive, name=df_selector, detail_level=detail_selector)"
   ]
  },
  {
   "cell_type": "markdown",
   "metadata": {},
   "source": [
    "**Instrucciones para Utilizar el Gráfico ⚙️**\n",
    "\n",
    "En esta gráfica interactiva puedes visualizar los valores máximos de diferentes tipos de combustibles en Guatemala, **seleccionando el nivel de detalle** de tal manera que los datos se muestren ya sea de forma mensual o anual.\n",
    "\n",
    "Puedes seleccionar el conjunto de datos que quieres analizar, como Consumo, Importación o Precios, usando el menú desplegable.\n",
    "\n",
    "También puedes elegir el nivel de detalle para la visualización:\n",
    "- Mensual: Verás los máximos agregados por cada mes.\n",
    "- Anual: Verás los máximos agregados por cada año.\n",
    "\n",
    "Los combustibles visualizados incluyen Gasolina Regular, Gasolina Superior, Gas Licuado y Diésel. El gráfico se muestra en formato de barras, donde cada barra representa el valor máximo del tipo de combustible seleccionado en un mes o año. Las etiquetas del eje x se ajustan según la opción seleccionada."
   ]
  },
  {
   "cell_type": "markdown",
   "metadata": {},
   "source": [
    "#### **(3) Gráficos Interactivos de Distribución**"
   ]
  },
  {
   "cell_type": "code",
   "execution_count": 17,
   "metadata": {},
   "outputs": [],
   "source": [
    "def interactive_histogram(df, name, units):\n",
    "    # Create a dropdown to select the fuel type\n",
    "    fuel_dropdown = widgets.Dropdown(\n",
    "        options=[\n",
    "            ('Gasoline Regular', 'gasoline_regular'),\n",
    "            ('Gasoline Superior', 'gasoline_superior'),\n",
    "            ('Liquefied Gas', 'liquefied_gas'),\n",
    "            ('Diesel', 'diesel')\n",
    "        ],\n",
    "        value='diesel',  # Default value\n",
    "        description='Fuel Type:',\n",
    "    )\n",
    "\n",
    "    # Create an empty figure widget for dynamic updates\n",
    "    fig = go.FigureWidget()\n",
    "\n",
    "    # Initialize the plot with the default fuel type\n",
    "    trace = fig.add_trace(go.Histogram(\n",
    "        x=df['diesel'],\n",
    "        name='Diesel',\n",
    "        marker=dict(color=palette[0])\n",
    "    ))\n",
    "\n",
    "    # Set up the initial layout\n",
    "    fig.update_layout(\n",
    "        title=f'Diesel {name} Distribution',\n",
    "        xaxis_title=f'{name} {units}',\n",
    "        yaxis_title='Count',\n",
    "        hovermode='x unified'\n",
    "    )\n",
    "\n",
    "    # Display the dropdown and the figure\n",
    "    display(fuel_dropdown)\n",
    "    display(fig)\n",
    "\n",
    "    # Function to update the chart when the fuel type is changed\n",
    "    def update_chart(change):\n",
    "        fuel_type = change['new']\n",
    "        \n",
    "        # Update the trace data\n",
    "        with fig.batch_update():\n",
    "            fig.data[0].x = df[fuel_type]\n",
    "            fig.data[0].name = fuel_type.replace('_', ' ').capitalize()\n",
    "            fig.data[0].marker.color = palette[0]\n",
    "        \n",
    "        # Update the layout with the new title and x-axis label\n",
    "        fig.update_layout(\n",
    "            title=f'{fuel_type.replace(\"_\", \" \").title()} {name} Distribution',\n",
    "            xaxis_title=f'{name} {units}'\n",
    "        )\n",
    "\n",
    "    # Set up an observer to call update_chart when the dropdown value changes\n",
    "    fuel_dropdown.observe(update_chart, names='value')"
   ]
  },
  {
   "cell_type": "code",
   "execution_count": 18,
   "metadata": {},
   "outputs": [
    {
     "data": {
      "application/vnd.jupyter.widget-view+json": {
       "model_id": "80de646e5e08443581c78b8404328eda",
       "version_major": 2,
       "version_minor": 0
      },
      "text/plain": [
       "Dropdown(description='Fuel Type:', index=3, options=(('Gasoline Regular', 'gasoline_regular'), ('Gasoline Supe…"
      ]
     },
     "metadata": {},
     "output_type": "display_data"
    },
    {
     "data": {
      "application/vnd.jupyter.widget-view+json": {
       "model_id": "1b7eacc0cd964a2f9ffd2044c418c685",
       "version_major": 2,
       "version_minor": 0
      },
      "text/plain": [
       "FigureWidget({\n",
       "    'data': [{'marker': {'color': '#648FFF'},\n",
       "              'name': 'Diesel',\n",
       "              'type': 'histogram',\n",
       "              'uid': 'b832b55a-3165-4e4d-8fc2-1bb5191962c0',\n",
       "              'x': array([ 634667.06,  642380.66,  699807.25, ..., 1393324.52, 1428143.44,\n",
       "                          1401052.37])}],\n",
       "    'layout': {'hovermode': 'x unified',\n",
       "               'template': '...',\n",
       "               'title': {'text': 'Diesel Consumption Distribution'},\n",
       "               'xaxis': {'title': {'text': 'Consumption (Barrel, 42 gallons)'}},\n",
       "               'yaxis': {'title': {'text': 'Count'}}}\n",
       "})"
      ]
     },
     "metadata": {},
     "output_type": "display_data"
    }
   ],
   "source": [
    "interactive_histogram(dataframes[0], \"Consumption\", \"(Barrel, 42 gallons)\")"
   ]
  },
  {
   "cell_type": "code",
   "execution_count": 19,
   "metadata": {},
   "outputs": [
    {
     "data": {
      "application/vnd.jupyter.widget-view+json": {
       "model_id": "fa5061713685457494d158c2abef5751",
       "version_major": 2,
       "version_minor": 0
      },
      "text/plain": [
       "Dropdown(description='Fuel Type:', index=3, options=(('Gasoline Regular', 'gasoline_regular'), ('Gasoline Supe…"
      ]
     },
     "metadata": {},
     "output_type": "display_data"
    },
    {
     "data": {
      "application/vnd.jupyter.widget-view+json": {
       "model_id": "38047adbd78744788f64fe2598331799",
       "version_major": 2,
       "version_minor": 0
      },
      "text/plain": [
       "FigureWidget({\n",
       "    'data': [{'marker': {'color': '#648FFF'},\n",
       "              'name': 'Diesel',\n",
       "              'type': 'histogram',\n",
       "              'uid': 'fda312c9-dc44-49b5-9362-5bd174bc5895',\n",
       "              'x': array([ 566101.99,  489525.8 ,  575559.68, ..., 1477038.  , 1294706.12,\n",
       "                          1470870.09])}],\n",
       "    'layout': {'hovermode': 'x unified',\n",
       "               'template': '...',\n",
       "               'title': {'text': 'Diesel Importation Distribution'},\n",
       "               'xaxis': {'title': {'text': 'Importation (Barrel, 42 gallons)'}},\n",
       "               'yaxis': {'title': {'text': 'Count'}}}\n",
       "})"
      ]
     },
     "metadata": {},
     "output_type": "display_data"
    }
   ],
   "source": [
    "interactive_histogram(dataframes[1], \"Importation\", \"(Barrel, 42 gallons)\")"
   ]
  },
  {
   "cell_type": "code",
   "execution_count": 20,
   "metadata": {},
   "outputs": [
    {
     "data": {
      "application/vnd.jupyter.widget-view+json": {
       "model_id": "b21f047fdcb64574be861b475cf4fa5b",
       "version_major": 2,
       "version_minor": 0
      },
      "text/plain": [
       "Dropdown(description='Fuel Type:', index=3, options=(('Gasoline Regular', 'gasoline_regular'), ('Gasoline Supe…"
      ]
     },
     "metadata": {},
     "output_type": "display_data"
    },
    {
     "data": {
      "application/vnd.jupyter.widget-view+json": {
       "model_id": "af88953de9da436990f218dcd4551607",
       "version_major": 2,
       "version_minor": 0
      },
      "text/plain": [
       "FigureWidget({\n",
       "    'data': [{'marker': {'color': '#648FFF'},\n",
       "              'name': 'Diesel',\n",
       "              'type': 'histogram',\n",
       "              'uid': '7ca6e8c3-c10a-444b-a0c3-1c7954868ff0',\n",
       "              'x': array([17.61, 17.61, 17.61, ..., 28.09, 28.09, 28.09])}],\n",
       "    'layout': {'hovermode': 'x unified',\n",
       "               'template': '...',\n",
       "               'title': {'text': 'Diesel Pricing Distribution'},\n",
       "               'xaxis': {'title': {'text': 'Pricing (GTQ/Gal)'}},\n",
       "               'yaxis': {'title': {'text': 'Count'}}}\n",
       "})"
      ]
     },
     "metadata": {},
     "output_type": "display_data"
    }
   ],
   "source": [
    "interactive_histogram(dataframes[2], \"Pricing\", \"(GTQ/Gal)\")"
   ]
  },
  {
   "cell_type": "markdown",
   "metadata": {},
   "source": [
    "#### **(4) Comparación Entre Modelos**"
   ]
  },
  {
   "cell_type": "markdown",
   "metadata": {},
   "source": []
  }
 ],
 "metadata": {
  "kernelspec": {
   "display_name": "venv",
   "language": "python",
   "name": "python3"
  },
  "language_info": {
   "codemirror_mode": {
    "name": "ipython",
    "version": 3
   },
   "file_extension": ".py",
   "mimetype": "text/x-python",
   "name": "python",
   "nbconvert_exporter": "python",
   "pygments_lexer": "ipython3",
   "version": "3.10.12"
  }
 },
 "nbformat": 4,
 "nbformat_minor": 2
}
