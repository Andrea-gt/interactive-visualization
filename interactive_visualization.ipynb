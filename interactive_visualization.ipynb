{
 "cells": [
  {
   "cell_type": "markdown",
   "metadata": {},
   "source": [
    "# **Lorem ipsum dolor sit amet**"
   ]
  },
  {
   "cell_type": "markdown",
   "metadata": {},
   "source": [
    " Lorem ipsum dolor sit amet, consectetur adipiscing elit. Vivamus tempus porttitor turpis non consequat. Donec at lobortis est, non consectetur sapien. Proin non libero finibus, mattis est id, imperdiet metus. Maecenas convallis erat sit amet varius elementum. Ut tristique accumsan urna, sed congue ex sagittis ut. Nam posuere ante nibh, at consectetur arcu viverra non. Aliquam bibendum tincidunt tristique. Aenean hendrerit hendrerit massa in tincidunt. Proin sodales dolor maximus, tempus risus vitae, ornare quam. Duis at massa rhoncus, semper nisl at, sagittis felis. Morbi quis bibendum nisl, vel interdum magna.\n",
    "\n",
    "Aliquam metus dolor, posuere sed arcu id, accumsan hendrerit quam. Pellentesque non sodales libero. Phasellus eleifend viverra aliquet. Etiam sit amet dapibus turpis. Nulla quis sollicitudin ipsum. Nam volutpat dolor in est tempor, et gravida dui sollicitudin. Duis viverra, massa nec dictum mollis, nisl libero hendrerit ex, sit amet ultricies elit ex ac quam. Sed ornare dolor vel hendrerit aliquet. Suspendisse faucibus orci id urna feugiat, nec vestibulum dui rhoncus. Quisque laoreet malesuada massa, et convallis urna. Pellentesque diam dui, congue eu aliquet eget, lacinia nec enim. Morbi pulvinar, felis vel ullamcorper porttitor, ex arcu consequat erat, efficitur consectetur turpis ex sit amet felis. Integer a est libero. Suspendisse potenti. Phasellus rhoncus fringilla euismod. Ut efficitur tortor hendrerit, tincidunt metus sit amet, consectetur enim. "
   ]
  },
  {
   "cell_type": "markdown",
   "metadata": {},
   "source": [
    "**Authors:**\n",
    "- [Adrian Flores](https://github.com/adrianRFlores)\n",
    "- [Andrea Ramirez](https://github.com/Andrea-gt)"
   ]
  },
  {
   "cell_type": "markdown",
   "metadata": {},
   "source": [
    "-----"
   ]
  },
  {
   "cell_type": "markdown",
   "metadata": {},
   "source": [
    "## **Import Libraries** ⬇️"
   ]
  },
  {
   "cell_type": "code",
   "execution_count": 220,
   "metadata": {},
   "outputs": [],
   "source": [
    "# Data manipulation and visualization\n",
    "import matplotlib.pyplot as plt\n",
    "import numpy as np\n",
    "import pandas as pd\n",
    "import seaborn as sns\n",
    "import matplotlib.ticker as mticker\n",
    "import ipywidgets as widgets\n",
    "import plotly.graph_objs as go\n",
    "from IPython.display import display\n",
    "from plotly.subplots import make_subplots\n",
    "\n",
    "# Standard libraries\n",
    "import warnings\n",
    "warnings.filterwarnings('ignore')\n",
    "\n",
    "# ===== ===== Reproducibility Seed ===== =====\n",
    "# Set a fixed seed for the random number generator for reproducibility\n",
    "random_state = 42\n",
    "\n",
    "# Set matplotlib inline\n",
    "%matplotlib inline\n",
    "\n",
    "# Set default figure size\n",
    "plt.rcParams['figure.figsize'] = (16, 8)\n",
    "\n",
    "# Define custom color palette\n",
    "palette = ['#648FFF', '#775EF0', '#DD2680', '#FE6100', '#FFB001']\n",
    "\n",
    "# Set the style of seaborn\n",
    "sns.set_theme(style=\"whitegrid\")"
   ]
  },
  {
   "cell_type": "markdown",
   "metadata": {},
   "source": [
    "## **Data Upload** 📄"
   ]
  },
  {
   "cell_type": "code",
   "execution_count": 221,
   "metadata": {},
   "outputs": [],
   "source": [
    "def read_and_process_excel(file_names):\n",
    "    dfs = []  # Initialize an empty list to store DataFrames\n",
    "\n",
    "    for file_name in file_names:\n",
    "        # Read the Excel file while skipping the first six rows of headers\n",
    "        df = pd.read_excel(file_name, skiprows=6)\n",
    "\n",
    "        # Drop the last three rows from the DataFrame to remove any unwanted data\n",
    "        df = df.iloc[:-3]\n",
    "\n",
    "        # Convert the 'Fecha' column to datetime format\n",
    "        df['Fecha'] = pd.to_datetime(df['Fecha'])\n",
    "\n",
    "        # Set the 'Fecha' column as the index of the DataFrame\n",
    "        df.set_index('Fecha', inplace=True)\n",
    "\n",
    "        # Select only the specified columns and create a new column 'Diesel' by combining 'Diesel alto azufre' and 'Diesel bajo azufre'\n",
    "        df['Diesel'] = df['Diesel alto azufre'].fillna(0) + df['Diesel bajo azufre'].fillna(0)\n",
    "\n",
    "        # Select only the relevant columns: Gasolina regular, Gasolina superior, Gas licuado de petróleo, and the new Diesel column\n",
    "        df = df[['Gasolina regular', 'Gasolina superior', 'Gas licuado de petróleo', 'Diesel']]\n",
    "\n",
    "        # Append the processed DataFrame to the list\n",
    "        dfs.append(df)\n",
    "\n",
    "    return dfs  # Return the list of DataFrames"
   ]
  },
  {
   "cell_type": "code",
   "execution_count": 222,
   "metadata": {},
   "outputs": [],
   "source": [
    "# List of Excel file names to be processed\n",
    "file_names = [\"consumo.xlsx\", \"importacion.xlsx\"]\n",
    "dataset_names = [\"Consumo\", \"Importacion\", \"Precios\"]\n",
    "\n",
    "# Call the function to read and process the Excel files, storing the result in the dataframes variable\n",
    "dataframes = read_and_process_excel(file_names)"
   ]
  },
  {
   "cell_type": "code",
   "execution_count": 223,
   "metadata": {},
   "outputs": [],
   "source": [
    "def read_price_dfs(sheetname, skip):\n",
    "  # Read the Excel file while skipping the first six rows of headers\n",
    "  df = pd.read_excel(\"precios.xlsx\", skiprows=skip, sheet_name=sheetname)\n",
    "  # Drop the last three rows from the DataFrame to remove any unwanted data\n",
    "  df = df.iloc[1:-3]\n",
    "  # Convert the 'Fecha' column to datetime format\n",
    "  df['Fecha'] = pd.to_datetime(df['FECHA'])\n",
    "  # Set the 'Fecha' column as the index of the DataFrame\n",
    "  df.set_index('Fecha', inplace=True)\n",
    "  # Remove last column\n",
    "  df = df.iloc[:, :-1]\n",
    "  # Rename the columns correctly\n",
    "  df.rename(columns={\n",
    "      'FECHA': 'Fecha',\n",
    "      'Tipo de Cambio': 'Tipo de Cambio',\n",
    "      'Superior': 'Gasolina superior',\n",
    "      'Regular': 'Gasolina regular',\n",
    "      'Diesel': 'Diesel',\n",
    "      'Bunker': 'Bunker',\n",
    "      'Glp Cilindro 25Lbs.': 'Gas licuado de petróleo'\n",
    "  }, inplace=True)\n",
    "  # Select only the relevant columns: Gasolina regular, Gasolina superior, Gas licuado de petróleo, and Diesel\n",
    "  df = df[['Gasolina regular', 'Gasolina superior', 'Gas licuado de petróleo', 'Diesel']]\n",
    "  # Drop NaN values from the final DataFrame\n",
    "  df.dropna(inplace=True)\n",
    "  return df"
   ]
  },
  {
   "cell_type": "code",
   "execution_count": 224,
   "metadata": {},
   "outputs": [],
   "source": [
    "list_price_params = [(\"2021\", 6), (\"2022\", 6), (\"2023\", 7), (\"2024\", 7)]"
   ]
  },
  {
   "cell_type": "code",
   "execution_count": 225,
   "metadata": {},
   "outputs": [],
   "source": [
    "# Initialize an empty list to hold DataFrames\n",
    "df_list = []\n",
    "\n",
    "# Loop through each parameter to read and append DataFrames to the list\n",
    "for year, skip in list_price_params:\n",
    "    df = read_price_dfs(year, skip)\n",
    "    df_list.append(df)\n",
    "\n",
    "# Concatenate all DataFrames in the list into a single DataFrame\n",
    "df = pd.concat(df_list)\n",
    "# Optionally, sort the index if necessary\n",
    "df.sort_index(inplace=True)\n",
    "# Display the final DataFrame\n",
    "dataframes.append(df)"
   ]
  },
  {
   "cell_type": "markdown",
   "metadata": {},
   "source": [
    "## **Exploratory Analysis** 🔎"
   ]
  },
  {
   "cell_type": "markdown",
   "metadata": {},
   "source": [
    "### **(1) Descripción General de los Datos**"
   ]
  },
  {
   "cell_type": "code",
   "execution_count": 226,
   "metadata": {},
   "outputs": [
    {
     "name": "stdout",
     "output_type": "stream",
     "text": [
      "The given dataset Consumo has 293 registers.\n",
      "The given dataset Importacion has 281 registers.\n",
      "The given dataset Precios has 1302 registers.\n"
     ]
    }
   ],
   "source": [
    "for i, df in enumerate(dataframes):\n",
    "  # Get the number of rows in the merged DataFrame\n",
    "  rows_num = df.shape[0]\n",
    "  # Print the number of records in the DataFrame\n",
    "  print(f\"The given dataset {dataset_names[i]} has\", rows_num, \"registers.\")"
   ]
  },
  {
   "cell_type": "markdown",
   "metadata": {},
   "source": [
    "**Observaciones 💡 -->**\n",
    "> - El primer conjunto de datos se centra en la recopilación de información histórica sobre el consumo nacional de petróleo y productos petroleros en Guatemala. Este conjunto abarca entradas desde enero de 2000 hasta la fecha actual. La información fue obtenida de la página oficial del [Ministerio de Energía y Minas](https://mem.gob.gt/que-hacemos/hidrocarburos/comercializacion-downstream/estadisticas-de-mercado/#1599459297938-cd7460d6-8212). Cuenta con alrededor de 293 registros y 4 columnas."
   ]
  },
  {
   "cell_type": "markdown",
   "metadata": {},
   "source": [
    "> - El segundo conjunto de datos se centra en la recopilación de información histórica sobre la importación de productos derivados del petróleo en Guatemala. Este conjunto abarca entradas desde enero de 2001 hasta la fecha actual. La información fue obtenida de la página oficial del [Ministerio de Energía y Minas](https://mem.gob.gt/que-hacemos/hidrocarburos/comercializacion-downstream/estadisticas-de-mercado/#1599459009048-ab105b3e-20a3). Cuenta con alrededor de 281 registros y 4 columnas, de manera similar al conjunto anterior."
   ]
  },
  {
   "cell_type": "markdown",
   "metadata": {},
   "source": [
    "> - El tercer conjunto de datos se centra en la recopilación de información histórica sobre los precios de productos derivados del petróleo en Guatemala (GTQ/Galón). Este conjunto abarca entradas desde enero de 2021 hasta la fecha actual. La información fue obtenida de la página oficial del [Ministerio de Energía y Minas](https://mem.gob.gt/que-hacemos/hidrocarburos/comercializacion-downstream/estadisticas-de-mercado/#1599459009048-ab105b3e-20a3). Cuenta con 1302 registros y 4 columnas."
   ]
  },
  {
   "cell_type": "code",
   "execution_count": 227,
   "metadata": {},
   "outputs": [
    {
     "name": "stdout",
     "output_type": "stream",
     "text": [
      "<class 'pandas.core.frame.DataFrame'>\n",
      "DatetimeIndex: 293 entries, 2000-01-01 to 2024-05-01\n",
      "Data columns (total 4 columns):\n",
      " #   Column                   Non-Null Count  Dtype  \n",
      "---  ------                   --------------  -----  \n",
      " 0   Gasolina regular         293 non-null    float64\n",
      " 1   Gasolina superior        293 non-null    float64\n",
      " 2   Gas licuado de petróleo  293 non-null    float64\n",
      " 3   Diesel                   293 non-null    float64\n",
      "dtypes: float64(4)\n",
      "memory usage: 11.4 KB\n",
      "None \n",
      "\n",
      "<class 'pandas.core.frame.DataFrame'>\n",
      "DatetimeIndex: 281 entries, 2001-01-01 to 2024-05-01\n",
      "Data columns (total 4 columns):\n",
      " #   Column                   Non-Null Count  Dtype  \n",
      "---  ------                   --------------  -----  \n",
      " 0   Gasolina regular         281 non-null    float64\n",
      " 1   Gasolina superior        281 non-null    float64\n",
      " 2   Gas licuado de petróleo  281 non-null    float64\n",
      " 3   Diesel                   281 non-null    float64\n",
      "dtypes: float64(4)\n",
      "memory usage: 11.0 KB\n",
      "None \n",
      "\n",
      "<class 'pandas.core.frame.DataFrame'>\n",
      "DatetimeIndex: 1302 entries, 2021-01-01 to 2024-07-28\n",
      "Data columns (total 4 columns):\n",
      " #   Column                   Non-Null Count  Dtype \n",
      "---  ------                   --------------  ----- \n",
      " 0   Gasolina regular         1302 non-null   object\n",
      " 1   Gasolina superior        1302 non-null   object\n",
      " 2   Gas licuado de petróleo  1302 non-null   object\n",
      " 3   Diesel                   1302 non-null   object\n",
      "dtypes: object(4)\n",
      "memory usage: 50.9+ KB\n",
      "None \n",
      "\n"
     ]
    }
   ],
   "source": [
    "for df in dataframes:\n",
    "  # Basic information about the dataset\n",
    "  print(df.info(), \"\\n\")"
   ]
  },
  {
   "cell_type": "markdown",
   "metadata": {},
   "source": [
    "**Observaciones 💡 -->**"
   ]
  },
  {
   "cell_type": "markdown",
   "metadata": {},
   "source": [
    "> - En este análisis observamos que no es necesario realizar alteraciones en los tipos de las variables en ninguno de los conjuntos de datos, ya que todas están definidas de manera adecuada. Es relevante destacar que, aunque no se observan valores nulos, existe la posibilidad de que algunos de ellos estén codificados de manera diferente. Por lo tanto, es importante tener esto en cuenta durante el proceso de limpieza. Sin embargo, a medida que se avance en el análisis exploratorio, se podrá obtener información más detallada al respecto."
   ]
  },
  {
   "cell_type": "markdown",
   "metadata": {},
   "source": [
    "### **(2) Clasificación de las Variables**"
   ]
  },
  {
   "cell_type": "markdown",
   "metadata": {},
   "source": [
    "**Conjunto de Datos de Consumo -->**"
   ]
  },
  {
   "cell_type": "markdown",
   "metadata": {},
   "source": [
    "| Nombre                       | Descripción                                                          | Clasificación  |\n",
    "|------------------------------|----------------------------------------------------------------------|----------------|\n",
    "| Fecha                        | Fecha de registro de los datos de consumo de combustibles.            | Categórica     |\n",
    "| Gasolina regular             | Consumo nacional de gasolina regular en barriles de 42 galones.       | Numérica       |\n",
    "| Gasolina superior            | Consumo nacional de gasolina superior en barriles de 42 galones.      | Numérica       |\n",
    "| Gas licuado de petróleo      | Consumo nacional de gas licuado de petróleo en barriles de 42 galones.| Numérica       |\n",
    "| Diesel                       | Consumo nacional de diesel en barriles de 42 galones.                 | Numérica       |\n"
   ]
  },
  {
   "cell_type": "markdown",
   "metadata": {},
   "source": [
    "**Conjunto de Datos de Importación -->**"
   ]
  },
  {
   "cell_type": "markdown",
   "metadata": {},
   "source": [
    "| Nombre                       | Descripción                                                               | Clasificación  |\n",
    "|------------------------------|---------------------------------------------------------------------------|----------------|\n",
    "| Fecha                        | Fecha de registro de la importación de productos derivados del petróleo.  | Categórica     |\n",
    "| Gasolina regular             | Importación nacional de gasolina regular en barriles de 42 galones.      | Numérica       |\n",
    "| Gasolina superior            | Importación nacional de gasolina superior en barriles de 42 galones.     | Numérica       |\n",
    "| Gas licuado de petróleo      | Imporatación nacional de gas licuado de petróleo en barriles de 42 galones.| Numérica       |\n",
    "| Diesel                       | Importación nacional de diesel en barriles de 42 galones.                | Numérica       |"
   ]
  },
  {
   "cell_type": "markdown",
   "metadata": {},
   "source": [
    "**Conjunto de Datos de Precio -->**\n"
   ]
  },
  {
   "cell_type": "markdown",
   "metadata": {},
   "source": [
    "| Nombre                       | Descripción                                                               | Clasificación  |\n",
    "|------------------------------|---------------------------------------------------------------------------|----------------|\n",
    "| Fecha                        | Fecha de registro del precio en quetzales.  | Categórica     |\n",
    "| Gasolina regular             | Precio de gasolina regular en quetzales por galón.      | Numérica       |\n",
    "| Gasolina superior            | Precio de gasolina superior en quetzales por galón.     | Numérica       |\n",
    "| Gas licuado de petróleo      | Precio del gas licuado de petróleo en quetzales por galón.| Numérica       |\n",
    "| Diesel                       | Precio del diesel en quetzales por galón.                | Numérica       |"
   ]
  },
  {
   "cell_type": "markdown",
   "metadata": {},
   "source": [
    "### **(3) Exploración y Limpieza Inicial de los Datos**"
   ]
  },
  {
   "cell_type": "markdown",
   "metadata": {},
   "source": [
    "#### **🖊 Modificación de Etiquetas de Variables -->**"
   ]
  },
  {
   "cell_type": "markdown",
   "metadata": {},
   "source": [
    "Para facilitar la comprensión y el manejo del conjunto de datos, se procederá a modificar los nombres de las variables. Este cambio permitirá una organización más clara y una interpretación más precisa de la información."
   ]
  },
  {
   "cell_type": "code",
   "execution_count": 228,
   "metadata": {},
   "outputs": [],
   "source": [
    "# Dictionary to rename columns for better readability\n",
    "rename_col = {\n",
    "    'Gasolina regular': 'gasoline_regular',    # Renaming 'Gasolina regular' to 'gasoline_regular'\n",
    "    'Gasolina superior': 'gasoline_superior',  # Renaming 'Gasolina superior' to 'gasoline_superior'\n",
    "    'Gas licuado de petróleo': 'liquefied_gas', # Renaming 'Gas licuado de petróleo' to 'liquefied_gas'\n",
    "    'Diesel': 'diesel'                        # Renaming 'Diesel' to 'diesel'\n",
    "}"
   ]
  },
  {
   "cell_type": "code",
   "execution_count": 229,
   "metadata": {},
   "outputs": [
    {
     "name": "stdout",
     "output_type": "stream",
     "text": [
      "            gasoline_regular  gasoline_superior  liquefied_gas     diesel\n",
      "date                                                                     \n",
      "2000-01-01         202645.20          308156.82  194410.476190  634667.06\n",
      "2000-02-01         205530.96          307766.31  174710.552381  642380.66 \n",
      "\n",
      "            gasoline_regular  gasoline_superior  liquefied_gas     diesel\n",
      "date                                                                     \n",
      "2001-01-01         177776.50          373963.96  194065.738095  566101.99\n",
      "2001-02-01         123115.99          243091.07  170703.380952  489525.80 \n",
      "\n",
      "            gasoline_regular  gasoline_superior  liquefied_gas  diesel\n",
      "date                                                                  \n",
      "2021-01-01             21.11              21.91           99.0   17.61\n",
      "2021-01-02             21.11              21.91           99.0   17.61 \n",
      "\n"
     ]
    }
   ],
   "source": [
    "for i, df in enumerate(dataframes):\n",
    "  # Use a pandas function to rename the current function\n",
    "  df = df.rename(columns = rename_col)\n",
    "  # Change the index name from 'Fecha' to 'date'\n",
    "  df.rename_axis('date', inplace=True)\n",
    "  # Ensure all columns are numeric\n",
    "  df = df.astype('float64')\n",
    "  # Save changes\n",
    "  dataframes[i] = df\n",
    "  print(df.head(2), \"\\n\")"
   ]
  },
  {
   "cell_type": "markdown",
   "metadata": {},
   "source": [
    "### **(4) Análisis Visual Preliminar de los Datos**"
   ]
  },
  {
   "cell_type": "code",
   "execution_count": 230,
   "metadata": {},
   "outputs": [],
   "source": [
    "# Combine the DataFrames for the interactive selection\n",
    "dataframe_mapping = {\n",
    "    \"Consumption\": dataframes[0],\n",
    "    \"Importation\": dataframes[1],\n",
    "    \"Pricing\": dataframes[2]\n",
    "}"
   ]
  },
  {
   "cell_type": "markdown",
   "metadata": {},
   "source": [
    "#### **(1) Análisis Visual de Series Temporales**"
   ]
  },
  {
   "cell_type": "code",
   "execution_count": 231,
   "metadata": {},
   "outputs": [],
   "source": [
    "# Define a mapping of dataset names to y-axis labels\n",
    "y_label_mapping = {\n",
    "    \"Consumption\": \"Consumption (Barrel, 42 gallons)\",\n",
    "    \"Importation\": \"Importation (Barrel, 42 gallons)\",\n",
    "    \"Pricing\": \"Price (GTQ/Gal)\"\n",
    "}"
   ]
  },
  {
   "cell_type": "code",
   "execution_count": 232,
   "metadata": {},
   "outputs": [],
   "source": [
    "def plot_dataframe(name):\n",
    "    # Get the DataFrame based on the name\n",
    "    df = dataframe_mapping.get(name)\n",
    "\n",
    "    # Create a figure widget\n",
    "    fig = go.FigureWidget()\n",
    "\n",
    "    # Function to update the graph based on the selected fuel type\n",
    "    def update_graph(selected_fuel):\n",
    "        # Clear the current figure\n",
    "        fig.data = []\n",
    "        \n",
    "        # Add the selected fuel type's line plot\n",
    "        fig.add_trace(go.Scatter(\n",
    "            x=df.index,\n",
    "            y=df[selected_fuel],\n",
    "            mode='lines',\n",
    "            name=selected_fuel.replace('_', ' ').title(),\n",
    "            line=dict(color=palette[['gasoline_regular', 'gasoline_superior', 'liquefied_gas', 'diesel'].index(selected_fuel)])\n",
    "        ))\n",
    "\n",
    "        # Update titles and labels\n",
    "        fig.update_layout(\n",
    "            title=f'Trends in Petroleum Product {name} in Guatemala',\n",
    "            title_font=dict(size=16, family='Arial, sans-serif', weight='bold'),\n",
    "            xaxis_title='Date',\n",
    "            yaxis_title=y_label_mapping.get(name, 'Price'),\n",
    "            xaxis=dict(tickangle=45),  # Rotate x-axis labels for better readability\n",
    "            yaxis=dict(tickformat=',.0f'),  # Format y-axis ticks with thousand separators\n",
    "            legend_title='Fuel Type',\n",
    "            legend=dict(font=dict(size=12)),\n",
    "            plot_bgcolor='white'  # Background color\n",
    "        )\n",
    "\n",
    "    # Create a dropdown to select the fuel type\n",
    "    fuel_dropdown = widgets.Dropdown(\n",
    "        options=[\n",
    "            ('Gasoline Regular', 'gasoline_regular'),\n",
    "            ('Gasoline Superior', 'gasoline_superior'),\n",
    "            ('Liquefied Gas', 'liquefied_gas'),\n",
    "            ('Diesel', 'diesel')\n",
    "        ],\n",
    "        value='diesel',  # Default value\n",
    "        description='Fuel Type:',\n",
    "    )\n",
    "\n",
    "    # Set the update function to be called when the dropdown value changes\n",
    "    fuel_dropdown.observe(lambda change: update_graph(change['new']), names='value')\n",
    "\n",
    "    # Initial plot\n",
    "    update_graph(fuel_dropdown.value)\n",
    "\n",
    "    # Display the dropdown and the figure\n",
    "    display(fuel_dropdown)\n",
    "    display(fig)"
   ]
  },
  {
   "cell_type": "markdown",
   "metadata": {},
   "source": [
    "##### **(1) Análisis Visual de Serie de Consumo**"
   ]
  },
  {
   "cell_type": "code",
   "execution_count": 233,
   "metadata": {},
   "outputs": [
    {
     "data": {
      "application/vnd.jupyter.widget-view+json": {
       "model_id": "40ba8453362c4665947f8f8dc7fb5012",
       "version_major": 2,
       "version_minor": 0
      },
      "text/plain": [
       "Dropdown(description='Fuel Type:', index=3, options=(('Gasoline Regular', 'gasoline_regular'), ('Gasoline Supe…"
      ]
     },
     "metadata": {},
     "output_type": "display_data"
    },
    {
     "data": {
      "application/vnd.jupyter.widget-view+json": {
       "model_id": "538159d0ad6749c8b98e727f6410b962",
       "version_major": 2,
       "version_minor": 0
      },
      "text/plain": [
       "FigureWidget({\n",
       "    'data': [{'line': {'color': '#FE6100'},\n",
       "              'mode': 'lines',\n",
       "              'name': 'Diesel',\n",
       "              'type': 'scatter',\n",
       "              'uid': '495444ba-2a8e-4894-863b-2a6105945cec',\n",
       "              'x': array([datetime.datetime(2000, 1, 1, 0, 0),\n",
       "                          datetime.datetime(2000, 2, 1, 0, 0),\n",
       "                          datetime.datetime(2000, 3, 1, 0, 0), ...,\n",
       "                          datetime.datetime(2024, 3, 1, 0, 0),\n",
       "                          datetime.datetime(2024, 4, 1, 0, 0),\n",
       "                          datetime.datetime(2024, 5, 1, 0, 0)], dtype=object),\n",
       "              'y': array([ 634667.06,  642380.66,  699807.25, ..., 1393324.52, 1428143.44,\n",
       "                          1401052.37])}],\n",
       "    'layout': {'legend': {'font': {'size': 12}, 'title': {'text': 'Fuel Type'}},\n",
       "               'plot_bgcolor': 'white',\n",
       "               'template': '...',\n",
       "               'title': {'font': {'family': 'Arial, sans-serif', 'size': 16, 'weight': 'bold'},\n",
       "                         'text': 'Trends in Petroleum Product Consumption in Guatemala'},\n",
       "               'xaxis': {'tickangle': 45, 'title': {'text': 'Date'}},\n",
       "               'yaxis': {'tickformat': ',.0f', 'title': {'text': 'Consumption (Barrel, 42 gallons)'}}}\n",
       "})"
      ]
     },
     "metadata": {},
     "output_type": "display_data"
    }
   ],
   "source": [
    "plot_dataframe(\"Consumption\")"
   ]
  },
  {
   "cell_type": "markdown",
   "metadata": {},
   "source": [
    "##### **(2) Análisis Visual de Serie de Importación**"
   ]
  },
  {
   "cell_type": "code",
   "execution_count": 234,
   "metadata": {},
   "outputs": [
    {
     "data": {
      "application/vnd.jupyter.widget-view+json": {
       "model_id": "c566ed68c2f64193802e842d3f82737b",
       "version_major": 2,
       "version_minor": 0
      },
      "text/plain": [
       "Dropdown(description='Fuel Type:', index=3, options=(('Gasoline Regular', 'gasoline_regular'), ('Gasoline Supe…"
      ]
     },
     "metadata": {},
     "output_type": "display_data"
    },
    {
     "data": {
      "application/vnd.jupyter.widget-view+json": {
       "model_id": "98318d7b2a164265bf2bab315e9eebad",
       "version_major": 2,
       "version_minor": 0
      },
      "text/plain": [
       "FigureWidget({\n",
       "    'data': [{'line': {'color': '#FE6100'},\n",
       "              'mode': 'lines',\n",
       "              'name': 'Diesel',\n",
       "              'type': 'scatter',\n",
       "              'uid': '1859d38c-4ac5-4208-ad88-d782a87af18c',\n",
       "              'x': array([datetime.datetime(2001, 1, 1, 0, 0),\n",
       "                          datetime.datetime(2001, 2, 1, 0, 0),\n",
       "                          datetime.datetime(2001, 3, 1, 0, 0), ...,\n",
       "                          datetime.datetime(2024, 3, 1, 0, 0),\n",
       "                          datetime.datetime(2024, 4, 1, 0, 0),\n",
       "                          datetime.datetime(2024, 5, 1, 0, 0)], dtype=object),\n",
       "              'y': array([ 566101.99,  489525.8 ,  575559.68, ..., 1477038.  , 1294706.12,\n",
       "                          1470870.09])}],\n",
       "    'layout': {'legend': {'font': {'size': 12}, 'title': {'text': 'Fuel Type'}},\n",
       "               'plot_bgcolor': 'white',\n",
       "               'template': '...',\n",
       "               'title': {'font': {'family': 'Arial, sans-serif', 'size': 16, 'weight': 'bold'},\n",
       "                         'text': 'Trends in Petroleum Product Importation in Guatemala'},\n",
       "               'xaxis': {'tickangle': 45, 'title': {'text': 'Date'}},\n",
       "               'yaxis': {'tickformat': ',.0f', 'title': {'text': 'Importation (Barrel, 42 gallons)'}}}\n",
       "})"
      ]
     },
     "metadata": {},
     "output_type": "display_data"
    }
   ],
   "source": [
    "plot_dataframe(\"Importation\")"
   ]
  },
  {
   "cell_type": "markdown",
   "metadata": {},
   "source": [
    "##### **(3) Análisis Visual de Serie de Precios**"
   ]
  },
  {
   "cell_type": "code",
   "execution_count": 235,
   "metadata": {},
   "outputs": [
    {
     "data": {
      "application/vnd.jupyter.widget-view+json": {
       "model_id": "710f830adb5d43059df9c75fa3269a80",
       "version_major": 2,
       "version_minor": 0
      },
      "text/plain": [
       "Dropdown(description='Fuel Type:', index=3, options=(('Gasoline Regular', 'gasoline_regular'), ('Gasoline Supe…"
      ]
     },
     "metadata": {},
     "output_type": "display_data"
    },
    {
     "data": {
      "application/vnd.jupyter.widget-view+json": {
       "model_id": "35000a85a658445586db56b20d2087f4",
       "version_major": 2,
       "version_minor": 0
      },
      "text/plain": [
       "FigureWidget({\n",
       "    'data': [{'line': {'color': '#FE6100'},\n",
       "              'mode': 'lines',\n",
       "              'name': 'Diesel',\n",
       "              'type': 'scatter',\n",
       "              'uid': '7ddf7914-21e4-4117-b429-b7450683c7a9',\n",
       "              'x': array([datetime.datetime(2021, 1, 1, 0, 0),\n",
       "                          datetime.datetime(2021, 1, 2, 0, 0),\n",
       "                          datetime.datetime(2021, 1, 3, 0, 0), ...,\n",
       "                          datetime.datetime(2024, 7, 26, 0, 0),\n",
       "                          datetime.datetime(2024, 7, 27, 0, 0),\n",
       "                          datetime.datetime(2024, 7, 28, 0, 0)], dtype=object),\n",
       "              'y': array([17.61, 17.61, 17.61, ..., 28.09, 28.09, 28.09])}],\n",
       "    'layout': {'legend': {'font': {'size': 12}, 'title': {'text': 'Fuel Type'}},\n",
       "               'plot_bgcolor': 'white',\n",
       "               'template': '...',\n",
       "               'title': {'font': {'family': 'Arial, sans-serif', 'size': 16, 'weight': 'bold'},\n",
       "                         'text': 'Trends in Petroleum Product Pricing in Guatemala'},\n",
       "               'xaxis': {'tickangle': 45, 'title': {'text': 'Date'}},\n",
       "               'yaxis': {'tickformat': ',.0f', 'title': {'text': 'Price (GTQ/Gal)'}}}\n",
       "})"
      ]
     },
     "metadata": {},
     "output_type": "display_data"
    }
   ],
   "source": [
    "plot_dataframe(\"Pricing\")"
   ]
  },
  {
   "cell_type": "markdown",
   "metadata": {},
   "source": [
    "**Instrucciones para Utilizar el Gráfico ⚙️**\n",
    "\n",
    "En estos gráfico interactivos, puedes obesevar diferentes conjuntos de datos relacionados con productos derivados del petróleo en Guatemala, como \"Consumo\", \"Importación\" o \"Precio\". A través del menú desplegable, puedes elegir cuál tipo de combustible deseas visualizar para cada conjunto.\n",
    "\n",
    "El gráfico muestra las tendencias a lo largo del tiempo para varios tipos de combustibles, incluyendo:\n",
    "\n",
    "- Gasolina Regular\n",
    "- Gasolina Superior\n",
    "- Gas Licuado\n",
    "- Diésel\n",
    "\n",
    "Las líneas del gráfico corresponden a cada uno de estos combustibles, y la leyenda te ayuda a identificarlos por color.\n",
    "\n",
    "El eje x representa las fechas, mientras que el eje y se adapta automáticamente al tipo de dato seleccionado:\n",
    "\n",
    "- Si seleccionas Consumo o Importación, el eje y mostrará los valores en barriles (42 galones cada uno).\n",
    "- Si seleccionas Precio, el eje y mostrará los precios en quetzales por galón (GTQ/Gal)."
   ]
  },
  {
   "cell_type": "markdown",
   "metadata": {},
   "source": [
    "#### **(2) Análisis de la Distribución Mensual y Anual de Series Temporales**"
   ]
  },
  {
   "cell_type": "code",
   "execution_count": 236,
   "metadata": {},
   "outputs": [],
   "source": [
    "# Function to plot maximums interactively\n",
    "def top_months_interactive(name, detail_level):\n",
    "    \n",
    "    print(f'Starting function for {name} with detail level {detail_level}')\n",
    "\n",
    "    # Create a new DataFrame that aggregates data by the chosen detail level\n",
    "    if detail_level == 'Monthly':\n",
    "        # Aggregate by month and get max for each month\n",
    "        monthly_max = dataframe_mapping[name].groupby(dataframe_mapping[name].index.month).max()\n",
    "    elif detail_level == 'Yearly':\n",
    "        # Aggregate by year and get max for each year\n",
    "        yearly_max = dataframe_mapping[name].resample('Y').max()\n",
    "        # If you want to display only the years as labels\n",
    "        monthly_max = yearly_max\n",
    "\n",
    "    # Plotting\n",
    "    monthly_max.plot(kind='bar', color=palette, edgecolor='black', width=0.8)\n",
    "\n",
    "    # Set proper names for the legend\n",
    "    fuel_labels = ['Gasoline Regular', 'Gasoline Superior', 'Liquefied Gas', 'Diesel']\n",
    "\n",
    "    # Formatting the plot\n",
    "    plt.title(f'Maximum Fuel {name} ({detail_level})', fontsize=16, fontweight='bold')\n",
    "    if detail_level == 'Monthly':\n",
    "        plt.xlabel('Month', fontsize=14)\n",
    "        plt.xticks(ticks=range(1, 13), labels=['Jan', 'Feb', 'Mar', 'Apr', 'May', 'Jun', 'Jul', 'Aug', 'Sep', 'Oct', 'Nov', 'Dec'], rotation=45)\n",
    "    else:\n",
    "        plt.xlabel('Year', fontsize=14)\n",
    "        plt.xticks(ticks=range(len(monthly_max.index)), labels=monthly_max.index.year, rotation=45)\n",
    "\n",
    "    plt.ylabel(f'Maximum {name}', fontsize=14)\n",
    "    plt.legend(fuel_labels, title='Fuel Type', fontsize=12)\n",
    "\n",
    "    # Set y-axis tick formatting to include thousand separators\n",
    "    ax = plt.gca()  # Get the current axis\n",
    "    ax.yaxis.set_major_formatter(mticker.StrMethodFormatter('{x:,.0f}'))  # Format y-ticks\n",
    "\n",
    "    plt.grid(axis='y', linestyle='--', alpha=0.7)\n",
    "    plt.tight_layout()\n",
    "    plt.show()"
   ]
  },
  {
   "cell_type": "code",
   "execution_count": 237,
   "metadata": {},
   "outputs": [
    {
     "data": {
      "application/vnd.jupyter.widget-view+json": {
       "model_id": "03bfe031d2264c71ae2ad2b29359f066",
       "version_major": 2,
       "version_minor": 0
      },
      "text/plain": [
       "interactive(children=(Dropdown(description='Dataset:', options=('Consumption', 'Importation', 'Pricing'), valu…"
      ]
     },
     "metadata": {},
     "output_type": "display_data"
    }
   ],
   "source": [
    "# Use the interactive function with the dropdowns\n",
    "df_selector = widgets.Dropdown(options=dataframe_mapping.keys(), description='Dataset:')\n",
    "detail_selector = widgets.Dropdown(options=['Monthly', 'Yearly'], description='Detail Level:')\n",
    "\n",
    "# Create interactive widgets\n",
    "widgets.interactive(top_months_interactive, name=df_selector, detail_level=detail_selector)"
   ]
  },
  {
   "cell_type": "markdown",
   "metadata": {},
   "source": [
    "**Instrucciones para Utilizar el Gráfico ⚙️**\n",
    "\n",
    "En esta gráfica interactiva puedes visualizar los valores máximos de diferentes tipos de combustibles en Guatemala, **seleccionando el nivel de detalle** de tal manera que los datos se muestren ya sea de forma mensual o anual.\n",
    "\n",
    "Puedes seleccionar el conjunto de datos que quieres analizar, como Consumo, Importación o Precios, usando el menú desplegable.\n",
    "\n",
    "También puedes elegir el nivel de detalle para la visualización:\n",
    "- Mensual: Verás los máximos agregados por cada mes.\n",
    "- Anual: Verás los máximos agregados por cada año.\n",
    "\n",
    "Los combustibles visualizados incluyen Gasolina Regular, Gasolina Superior, Gas Licuado y Diésel. El gráfico se muestra en formato de barras, donde cada barra representa el valor máximo del tipo de combustible seleccionado en un mes o año. Las etiquetas del eje x se ajustan según la opción seleccionada."
   ]
  },
  {
   "cell_type": "markdown",
   "metadata": {},
   "source": [
    "#### **(3) Análisis de Frecuencia por Tipo de Combustible (Gráficos Enlazados)**"
   ]
  },
  {
   "cell_type": "code",
   "execution_count": 238,
   "metadata": {},
   "outputs": [],
   "source": [
    "def interactive_histogram(df, name, units):\n",
    "    # Create a dropdown to select the fuel type\n",
    "    fuel_dropdown = widgets.Dropdown(\n",
    "        options=[\n",
    "            ('Gasoline Regular', 'gasoline_regular'),\n",
    "            ('Gasoline Superior', 'gasoline_superior'),\n",
    "            ('Liquefied Gas', 'liquefied_gas'),\n",
    "            ('Diesel', 'diesel')\n",
    "        ],\n",
    "        value='diesel',  # Default value\n",
    "        description='Fuel Type:',\n",
    "    )\n",
    "\n",
    "    # Create a label to display the selected range\n",
    "    selected_range_label = widgets.Label(value='Selected Range: None')\n",
    "\n",
    "    # Create an empty figure widget for dynamic updates\n",
    "    fig_hist = go.FigureWidget()\n",
    "    fig_line = go.FigureWidget()\n",
    "\n",
    "    # Initialize the histogram with the default fuel type\n",
    "    trace_hist = fig_hist.add_trace(go.Histogram(\n",
    "        x=df['diesel'],\n",
    "        name='Diesel',\n",
    "        marker=dict(color=palette[0])\n",
    "    ))\n",
    "\n",
    "    # Initialize the line chart with the default fuel type\n",
    "    fig_line.add_trace(go.Scatter(\n",
    "        x=df.index,\n",
    "        y=df['diesel'],\n",
    "        mode='lines+markers',\n",
    "        name='Diesel',\n",
    "        line=dict(color=palette[4])\n",
    "    ))\n",
    "\n",
    "    # Set up the initial layout for histogram\n",
    "    fig_hist.update_layout(\n",
    "        title=f'Diesel {name} Distribution',\n",
    "        xaxis_title=f'{name} {units}',\n",
    "        yaxis_title='Count',\n",
    "        hovermode='x unified',\n",
    "        dragmode='select'  # Enable selection mode\n",
    "    )\n",
    "\n",
    "    # Set up the initial layout for line chart\n",
    "    fig_line.update_layout(\n",
    "        title=f'Diesel {name} Over Time',\n",
    "        xaxis_title='Date',\n",
    "        yaxis_title=f'{name} {units}',\n",
    "        hovermode='x unified'\n",
    "    )\n",
    "\n",
    "    # Display the dropdown, histogram, and line chart\n",
    "    display(fuel_dropdown)\n",
    "    display(fig_hist)\n",
    "    display(fig_line)\n",
    "    display(selected_range_label)\n",
    "\n",
    "    # Function to update the chart when the fuel type is changed\n",
    "    def update_chart(change):\n",
    "        fuel_type = change['new']\n",
    "        \n",
    "        # Update the histogram trace data\n",
    "        with fig_hist.batch_update():\n",
    "            fig_hist.data[0].x = df[fuel_type]\n",
    "            fig_hist.data[0].name = fuel_type.replace('_', ' ').capitalize()\n",
    "            fig_hist.data[0].marker.color = palette[0]\n",
    "        \n",
    "        # Update the line chart trace data\n",
    "        with fig_line.batch_update():\n",
    "            fig_line.data[0].y = df[fuel_type]\n",
    "            fig_line.data[0].name = fuel_type.replace('_', ' ').capitalize()\n",
    "\n",
    "        # Update the layout titles\n",
    "        fig_hist.update_layout(\n",
    "            title=f'{fuel_type.replace(\"_\", \" \").title()} {name} Distribution',\n",
    "            xaxis_title=f'{name} {units}'\n",
    "        )\n",
    "        fig_line.update_layout(\n",
    "            title=f'{fuel_type.replace(\"_\", \" \").title()} {name} Over Time',\n",
    "            yaxis_title=f'{name} {units}'\n",
    "        )\n",
    "\n",
    "    # Function to update the selected range and line chart\n",
    "    def update_selected_range(trace, points, selector):\n",
    "        if points.point_inds:  # Check if any points are selected\n",
    "            selected_data = df[fuel_dropdown.value].iloc[points.point_inds]\n",
    "            selected_range = (selected_data.min(), selected_data.max())\n",
    "            selected_range_label.value = f'Selected Range: {selected_range}'\n",
    "            \n",
    "            # Filter the DataFrame based on the selected range\n",
    "            filtered_df = df[(df[fuel_dropdown.value] >= selected_range[0]) & \n",
    "                             (df[fuel_dropdown.value] <= selected_range[1])]\n",
    "            \n",
    "            # Update the line chart based on the filtered data\n",
    "            with fig_line.batch_update():\n",
    "                fig_line.data[0].y = filtered_df[fuel_dropdown.value]\n",
    "                fig_line.data[0].x = filtered_df.index\n",
    "\n",
    "        else:\n",
    "            selected_range_label.value = 'Selected Range: None'\n",
    "\n",
    "    # Set up observers for dropdown changes and selection updates\n",
    "    fuel_dropdown.observe(update_chart, names='value')\n",
    "    \n",
    "    # Attach the update function to the histogram trace\n",
    "    fig_hist.data[0].on_selection(update_selected_range)\n"
   ]
  },
  {
   "cell_type": "markdown",
   "metadata": {},
   "source": [
    "##### **(1) Distribucición de Conjunto de Datos de Consumo**"
   ]
  },
  {
   "cell_type": "code",
   "execution_count": 239,
   "metadata": {},
   "outputs": [
    {
     "data": {
      "application/vnd.jupyter.widget-view+json": {
       "model_id": "38702b3dcf1d470583080014fec072c8",
       "version_major": 2,
       "version_minor": 0
      },
      "text/plain": [
       "Dropdown(description='Fuel Type:', index=3, options=(('Gasoline Regular', 'gasoline_regular'), ('Gasoline Supe…"
      ]
     },
     "metadata": {},
     "output_type": "display_data"
    },
    {
     "data": {
      "application/vnd.jupyter.widget-view+json": {
       "model_id": "f45439a0bab9428b990710448415c9c0",
       "version_major": 2,
       "version_minor": 0
      },
      "text/plain": [
       "FigureWidget({\n",
       "    'data': [{'marker': {'color': '#648FFF'},\n",
       "              'name': 'Diesel',\n",
       "              'type': 'histogram',\n",
       "              'uid': '49cd1cde-0e77-4de6-a460-b8fac991412a',\n",
       "              'x': array([ 634667.06,  642380.66,  699807.25, ..., 1393324.52, 1428143.44,\n",
       "                          1401052.37])}],\n",
       "    'layout': {'dragmode': 'select',\n",
       "               'hovermode': 'x unified',\n",
       "               'template': '...',\n",
       "               'title': {'text': 'Diesel Consumption Distribution'},\n",
       "               'xaxis': {'title': {'text': 'Consumption (Barrel, 42 gallons)'}},\n",
       "               'yaxis': {'title': {'text': 'Count'}}}\n",
       "})"
      ]
     },
     "metadata": {},
     "output_type": "display_data"
    },
    {
     "data": {
      "application/vnd.jupyter.widget-view+json": {
       "model_id": "88afe5197f5148a4acbce0302de9b4f6",
       "version_major": 2,
       "version_minor": 0
      },
      "text/plain": [
       "FigureWidget({\n",
       "    'data': [{'line': {'color': '#FFB001'},\n",
       "              'mode': 'lines+markers',\n",
       "              'name': 'Diesel',\n",
       "              'type': 'scatter',\n",
       "              'uid': '56f958ee-4e85-419e-9e09-db6250fd1576',\n",
       "              'x': array([datetime.datetime(2000, 1, 1, 0, 0),\n",
       "                          datetime.datetime(2000, 2, 1, 0, 0),\n",
       "                          datetime.datetime(2000, 3, 1, 0, 0), ...,\n",
       "                          datetime.datetime(2024, 3, 1, 0, 0),\n",
       "                          datetime.datetime(2024, 4, 1, 0, 0),\n",
       "                          datetime.datetime(2024, 5, 1, 0, 0)], dtype=object),\n",
       "              'y': array([ 634667.06,  642380.66,  699807.25, ..., 1393324.52, 1428143.44,\n",
       "                          1401052.37])}],\n",
       "    'layout': {'hovermode': 'x unified',\n",
       "               'template': '...',\n",
       "               'title': {'text': 'Diesel Consumption Over Time'},\n",
       "               'xaxis': {'title': {'text': 'Date'}},\n",
       "               'yaxis': {'title': {'text': 'Consumption (Barrel, 42 gallons)'}}}\n",
       "})"
      ]
     },
     "metadata": {},
     "output_type": "display_data"
    },
    {
     "data": {
      "application/vnd.jupyter.widget-view+json": {
       "model_id": "6402df999167466f832b6a9b675187e6",
       "version_major": 2,
       "version_minor": 0
      },
      "text/plain": [
       "Label(value='Selected Range: None')"
      ]
     },
     "metadata": {},
     "output_type": "display_data"
    }
   ],
   "source": [
    "interactive_histogram(dataframes[0], \"Consumption\", \"(Barrel, 42 gallons)\")"
   ]
  },
  {
   "cell_type": "markdown",
   "metadata": {},
   "source": [
    "##### **(2) Distribucición de Conjunto de Datos de Importación**"
   ]
  },
  {
   "cell_type": "code",
   "execution_count": 240,
   "metadata": {},
   "outputs": [
    {
     "data": {
      "application/vnd.jupyter.widget-view+json": {
       "model_id": "576141534cce44b4b9c2f8af585d4ae7",
       "version_major": 2,
       "version_minor": 0
      },
      "text/plain": [
       "Dropdown(description='Fuel Type:', index=3, options=(('Gasoline Regular', 'gasoline_regular'), ('Gasoline Supe…"
      ]
     },
     "metadata": {},
     "output_type": "display_data"
    },
    {
     "data": {
      "application/vnd.jupyter.widget-view+json": {
       "model_id": "6faf39ea8d5949b9836e5b24e79c2707",
       "version_major": 2,
       "version_minor": 0
      },
      "text/plain": [
       "FigureWidget({\n",
       "    'data': [{'marker': {'color': '#648FFF'},\n",
       "              'name': 'Diesel',\n",
       "              'type': 'histogram',\n",
       "              'uid': 'cfa89ad5-646e-4be8-81f5-4d1a1813a35a',\n",
       "              'x': array([ 566101.99,  489525.8 ,  575559.68, ..., 1477038.  , 1294706.12,\n",
       "                          1470870.09])}],\n",
       "    'layout': {'dragmode': 'select',\n",
       "               'hovermode': 'x unified',\n",
       "               'template': '...',\n",
       "               'title': {'text': 'Diesel Importation Distribution'},\n",
       "               'xaxis': {'title': {'text': 'Importation (Barrel, 42 gallons)'}},\n",
       "               'yaxis': {'title': {'text': 'Count'}}}\n",
       "})"
      ]
     },
     "metadata": {},
     "output_type": "display_data"
    },
    {
     "data": {
      "application/vnd.jupyter.widget-view+json": {
       "model_id": "7f2dbbee0b0f4170be88cae3080df848",
       "version_major": 2,
       "version_minor": 0
      },
      "text/plain": [
       "FigureWidget({\n",
       "    'data': [{'line': {'color': '#FFB001'},\n",
       "              'mode': 'lines+markers',\n",
       "              'name': 'Diesel',\n",
       "              'type': 'scatter',\n",
       "              'uid': 'c9433405-d1f3-49a8-82b5-10164fbdae2e',\n",
       "              'x': array([datetime.datetime(2001, 1, 1, 0, 0),\n",
       "                          datetime.datetime(2001, 2, 1, 0, 0),\n",
       "                          datetime.datetime(2001, 3, 1, 0, 0), ...,\n",
       "                          datetime.datetime(2024, 3, 1, 0, 0),\n",
       "                          datetime.datetime(2024, 4, 1, 0, 0),\n",
       "                          datetime.datetime(2024, 5, 1, 0, 0)], dtype=object),\n",
       "              'y': array([ 566101.99,  489525.8 ,  575559.68, ..., 1477038.  , 1294706.12,\n",
       "                          1470870.09])}],\n",
       "    'layout': {'hovermode': 'x unified',\n",
       "               'template': '...',\n",
       "               'title': {'text': 'Diesel Importation Over Time'},\n",
       "               'xaxis': {'title': {'text': 'Date'}},\n",
       "               'yaxis': {'title': {'text': 'Importation (Barrel, 42 gallons)'}}}\n",
       "})"
      ]
     },
     "metadata": {},
     "output_type": "display_data"
    },
    {
     "data": {
      "application/vnd.jupyter.widget-view+json": {
       "model_id": "07f8c87465bd4dd4a292c93d2655eed4",
       "version_major": 2,
       "version_minor": 0
      },
      "text/plain": [
       "Label(value='Selected Range: None')"
      ]
     },
     "metadata": {},
     "output_type": "display_data"
    }
   ],
   "source": [
    "interactive_histogram(dataframes[1], \"Importation\", \"(Barrel, 42 gallons)\")"
   ]
  },
  {
   "cell_type": "markdown",
   "metadata": {},
   "source": [
    "##### **(3) Distribucición de Conjunto de Datos de Precio**"
   ]
  },
  {
   "cell_type": "code",
   "execution_count": 241,
   "metadata": {},
   "outputs": [
    {
     "data": {
      "application/vnd.jupyter.widget-view+json": {
       "model_id": "0ce6736114994f128a22d9df11d723d7",
       "version_major": 2,
       "version_minor": 0
      },
      "text/plain": [
       "Dropdown(description='Fuel Type:', index=3, options=(('Gasoline Regular', 'gasoline_regular'), ('Gasoline Supe…"
      ]
     },
     "metadata": {},
     "output_type": "display_data"
    },
    {
     "data": {
      "application/vnd.jupyter.widget-view+json": {
       "model_id": "29fbb5f2fbac485cbfbd604d28502ff6",
       "version_major": 2,
       "version_minor": 0
      },
      "text/plain": [
       "FigureWidget({\n",
       "    'data': [{'marker': {'color': '#648FFF'},\n",
       "              'name': 'Diesel',\n",
       "              'type': 'histogram',\n",
       "              'uid': 'b47648f7-9e4f-4f09-85d4-a00249a7f1f9',\n",
       "              'x': array([17.61, 17.61, 17.61, ..., 28.09, 28.09, 28.09])}],\n",
       "    'layout': {'dragmode': 'select',\n",
       "               'hovermode': 'x unified',\n",
       "               'template': '...',\n",
       "               'title': {'text': 'Diesel Pricing Distribution'},\n",
       "               'xaxis': {'title': {'text': 'Pricing (GTQ/Gal)'}},\n",
       "               'yaxis': {'title': {'text': 'Count'}}}\n",
       "})"
      ]
     },
     "metadata": {},
     "output_type": "display_data"
    },
    {
     "data": {
      "application/vnd.jupyter.widget-view+json": {
       "model_id": "add95bbd13064a7c8a8e8c17b9b9b13f",
       "version_major": 2,
       "version_minor": 0
      },
      "text/plain": [
       "FigureWidget({\n",
       "    'data': [{'line': {'color': '#FFB001'},\n",
       "              'mode': 'lines+markers',\n",
       "              'name': 'Diesel',\n",
       "              'type': 'scatter',\n",
       "              'uid': '02488d98-e5c3-4e98-947c-7fcadfe34e38',\n",
       "              'x': array([datetime.datetime(2021, 1, 1, 0, 0),\n",
       "                          datetime.datetime(2021, 1, 2, 0, 0),\n",
       "                          datetime.datetime(2021, 1, 3, 0, 0), ...,\n",
       "                          datetime.datetime(2024, 7, 26, 0, 0),\n",
       "                          datetime.datetime(2024, 7, 27, 0, 0),\n",
       "                          datetime.datetime(2024, 7, 28, 0, 0)], dtype=object),\n",
       "              'y': array([17.61, 17.61, 17.61, ..., 28.09, 28.09, 28.09])}],\n",
       "    'layout': {'hovermode': 'x unified',\n",
       "               'template': '...',\n",
       "               'title': {'text': 'Diesel Pricing Over Time'},\n",
       "               'xaxis': {'title': {'text': 'Date'}},\n",
       "               'yaxis': {'title': {'text': 'Pricing (GTQ/Gal)'}}}\n",
       "})"
      ]
     },
     "metadata": {},
     "output_type": "display_data"
    },
    {
     "data": {
      "application/vnd.jupyter.widget-view+json": {
       "model_id": "0d94cf5be68c4420b8e0c61d674cdc69",
       "version_major": 2,
       "version_minor": 0
      },
      "text/plain": [
       "Label(value='Selected Range: None')"
      ]
     },
     "metadata": {},
     "output_type": "display_data"
    }
   ],
   "source": [
    "interactive_histogram(dataframes[2], \"Pricing\", \"(GTQ/Gal)\")"
   ]
  },
  {
   "cell_type": "markdown",
   "metadata": {},
   "source": [
    "**Instrucciones para Utilizar el Gráfico ⚙️**\n",
    "\n",
    "En estas visualizaciones interactivas, puedes explorar un histograma que muestra la distribución de diferentes tipos de combustibles en Guatemala.\n",
    "\n",
    "- Histograma: El histograma muestra la distribución de los tipos de combustible seleccionados. Visualiza con qué frecuencia ocurren diferentes rangos de valores en los datos.\n",
    "\n",
    "- Gráfico de Líneas: El gráfico de líneas a la derecha muestra la tendencia de los precios de combustible a lo largo del tiempo. Proporciona una vista de serie temporal del tipo de combustible seleccionado.\n",
    "\n",
    "Cuando selecciones un rango en el histograma, el gráfico de líneas se actualizará automáticamente para mostrar solo los puntos de datos que caen dentro de ese rango seleccionado. Esto te permite analizar las tendencias en los precios del combustible que corresponden a los valores de consumo seleccionados."
   ]
  },
  {
   "cell_type": "markdown",
   "metadata": {},
   "source": [
    "#### **(4) Análisis Comparativo de Desempeño de Modelos Predictivos**"
   ]
  },
  {
   "cell_type": "code",
   "execution_count": null,
   "metadata": {},
   "outputs": [],
   "source": []
  }
 ],
 "metadata": {
  "kernelspec": {
   "display_name": "venv",
   "language": "python",
   "name": "python3"
  },
  "language_info": {
   "codemirror_mode": {
    "name": "ipython",
    "version": 3
   },
   "file_extension": ".py",
   "mimetype": "text/x-python",
   "name": "python",
   "nbconvert_exporter": "python",
   "pygments_lexer": "ipython3",
   "version": "3.10.12"
  }
 },
 "nbformat": 4,
 "nbformat_minor": 2
}
